{
 "cells": [
  {
   "cell_type": "markdown",
   "metadata": {},
   "source": [
    "# From Data to Action: Machine Learning Approaches for Predicting Tobacco-Free Policy Implementation in Schools \n",
    "## Preprocessing"
   ]
  },
  {
   "cell_type": "markdown",
   "metadata": {},
   "source": [
    "Loading excel cleaned and combined dataset"
   ]
  },
  {
   "cell_type": "code",
   "execution_count": null,
   "metadata": {},
   "outputs": [],
   "source": [
    "import pandas as pd\n",
    "import numpy as np\n",
    "from pathlib import Path\n",
    "import matplotlib.pyplot as plt\n",
    "import seaborn as sns\n",
    "\n",
    "IMAGES_PATH = Path() / \"plots\"\n",
    "IMAGES_PATH.mkdir(parents=True, exist_ok=True)\n",
    "\n",
    "def save_fig(fig_id, tight_layout=True, fig_extension=\"png\", resolution=300):\n",
    "    path = IMAGES_PATH / f\"{fig_id}.{fig_extension}\"\n",
    "    if tight_layout:\n",
    "        plt.tight_layout()\n",
    "    plt.savefig(path, format=fig_extension, dpi=resolution)\n",
    "# Read the two dataframes\n",
    "df = pd.read_csv('/main/tobaccoFree/data/base-dataset.csv')\n",
    "\n",
    "\n",
    "df.head()"
   ]
  },
  {
   "cell_type": "markdown",
   "metadata": {},
   "source": [
    "Getting Feature Variable Name List to csv"
   ]
  },
  {
   "cell_type": "code",
   "execution_count": null,
   "metadata": {},
   "outputs": [],
   "source": [
    "a = pd.read_csv('/main/tobaccoFree/data/attributes.csv', comment='#', header=None)\n",
    "a"
   ]
  },
  {
   "cell_type": "code",
   "execution_count": null,
   "metadata": {},
   "outputs": [],
   "source": [
    "a = a.dropna(axis=1)\n",
    "a"
   ]
  },
  {
   "cell_type": "code",
   "execution_count": null,
   "metadata": {},
   "outputs": [],
   "source": [
    "a = a.T\n",
    "a.to_csv('/main/tobaccoFree/data/cols.csv', index=False, sep=',', encoding='utf-8', header=False)\n",
    "a\n",
    "df.info(verbose=True,show_counts=True)"
   ]
  },
  {
   "cell_type": "markdown",
   "metadata": {},
   "source": [
    "Replacing with Current Dataset Column Names"
   ]
  },
  {
   "cell_type": "code",
   "execution_count": null,
   "metadata": {},
   "outputs": [],
   "source": [
    "cols = pd.read_csv('/main/tobaccoFree/data/cols.csv')\n",
    "df.columns = cols.columns\n",
    "df.info(verbose=True,show_counts=True)"
   ]
  },
  {
   "cell_type": "markdown",
   "metadata": {},
   "source": [
    "Adding tobaccoFree Column"
   ]
  },
  {
   "cell_type": "code",
   "execution_count": null,
   "metadata": {},
   "outputs": [],
   "source": [
    "df['tobaccoFree'] = (df['totalCriteria'] > 10).astype(float)\n",
    "df.info(verbose=True,show_counts=True)\n"
   ]
  },
  {
   "cell_type": "markdown",
   "metadata": {},
   "source": [
    "Writing base dataset to file"
   ]
  },
  {
   "cell_type": "code",
   "execution_count": null,
   "metadata": {},
   "outputs": [],
   "source": [
    "df = df.to_csv('/main/tobaccoFree/data/base-dataset.csv', index=False, sep=',', encoding='utf-8')"
   ]
  },
  {
   "cell_type": "markdown",
   "metadata": {},
   "source": [
    "Dropping columns with too many null values or with untrainable values"
   ]
  },
  {
   "cell_type": "code",
   "execution_count": null,
   "metadata": {},
   "outputs": [],
   "source": [
    "df.info(verbose=True,show_counts=True)"
   ]
  },
  {
   "cell_type": "code",
   "execution_count": null,
   "metadata": {},
   "outputs": [],
   "source": [
    "df = df.drop(['distPerfEdu', 'prcplIncome','MEnroll1','MEnroll2','MEnroll3','FEnroll1','FEnroll2','FEnroll3','totEnroll1','totEnroll2','totEnroll3','POTOC','numMTeach','numFTeach','teachStudRat','MtoFTeachRat','percHH_Has_Toilet','percPassHSC','prcplSchemeName', 'schoolName','prcplSchemeOtherName', 'percCriteria'], axis=1)\n",
    "df.info(verbose=True,show_counts=True)"
   ]
  },
  {
   "cell_type": "markdown",
   "metadata": {},
   "source": [
    "First correlation Heatmap"
   ]
  },
  {
   "cell_type": "code",
   "execution_count": null,
   "metadata": {},
   "outputs": [],
   "source": [
    "\n",
    "plt.figure(figsize=(70,50))\n",
    "sns.heatmap(df.corr(numeric_only=True), annot=True, cmap=\"YlGnBu\")\n",
    "save_fig('Heat Map')\n"
   ]
  },
  {
   "cell_type": "markdown",
   "metadata": {},
   "source": [
    "## Feature Engineering"
   ]
  },
  {
   "cell_type": "code",
   "execution_count": null,
   "metadata": {},
   "outputs": [],
   "source": [
    "df.info(verbose=True,show_counts=True)"
   ]
  },
  {
   "cell_type": "markdown",
   "metadata": {},
   "source": [
    "#### Getting Dummy Variables for Object data types"
   ]
  },
  {
   "cell_type": "code",
   "execution_count": null,
   "metadata": {},
   "outputs": [],
   "source": [
    "def get_dummies_and_reposition(df, prefix_sep='_'):\n",
    "  \"\"\"\n",
    "  Creates dummy variables for object-type columns, inserts them after the original columns, and drops the originals.\n",
    "\n",
    "  Args:\n",
    "    df: The pandas DataFrame.\n",
    "    prefix_sep: The separator to use between the column name and the category name in the dummy variable names.\n",
    "\n",
    "  Returns:\n",
    "    The modified DataFrame with dummy variables inserted and original object-type features dropped.\n",
    "  \"\"\"\n",
    "  object_cols = df.select_dtypes(include=['object']).columns.tolist()\n",
    "  for col in object_cols:\n",
    "    dummies = pd.get_dummies(df[col], dtype=float, prefix=col, prefix_sep=prefix_sep)\n",
    "    # Get the index of the original column\n",
    "    col_index = df.columns.get_loc(col)\n",
    "    # Insert dummies after the original column\n",
    "    df = pd.concat([df.iloc[:, :col_index + 1], dummies, df.iloc[:, col_index + 1:]], axis=1)\n",
    "    # Drop the original column\n",
    "    df = df.drop(col, axis=1)\n",
    "  return df\n",
    "\n",
    "# Call the function to create and reposition dummies\n",
    "df = get_dummies_and_reposition(df)\n",
    "df.info(verbose=True,show_counts=True)"
   ]
  },
  {
   "cell_type": "markdown",
   "metadata": {},
   "source": [
    "Encoded data correlation heatmap"
   ]
  },
  {
   "cell_type": "code",
   "execution_count": null,
   "metadata": {},
   "outputs": [],
   "source": [
    "plt.figure(figsize=(70,60))\n",
    "sns.heatmap(df.corr(numeric_only=True), annot=True, annot_kws={\"size\": 6}, cmap=\"YlGnBu\")\n",
    "save_fig('Heat Map')"
   ]
  },
  {
   "cell_type": "markdown",
   "metadata": {},
   "source": [
    "Writing encoded dataset to file"
   ]
  },
  {
   "cell_type": "code",
   "execution_count": null,
   "metadata": {},
   "outputs": [],
   "source": [
    "df_numeric = df.to_csv('/main/tobaccoFree/data/encoded_data.csv', index=False, sep=',', encoding='utf-8')"
   ]
  },
  {
   "cell_type": "markdown",
   "metadata": {},
   "source": [
    "Sweetviz library plots"
   ]
  },
  {
   "cell_type": "code",
   "execution_count": null,
   "metadata": {},
   "outputs": [],
   "source": [
    "report = sv.analyze(df)\n",
    "report.show_html('analyze.html', open_browser = False)"
   ]
  },
  {
   "cell_type": "markdown",
   "metadata": {},
   "source": [
    "#### KNN Imputing Null Values"
   ]
  },
  {
   "cell_type": "code",
   "execution_count": null,
   "metadata": {},
   "outputs": [],
   "source": [
    "from sklearn.impute import  KNNImputer\n",
    "\n",
    "iknn = KNNImputer(n_neighbors = 3)\n",
    "\n",
    "\n",
    "\n",
    "df_numeric = pd.DataFrame(iknn.fit_transform(df.select_dtypes('number')), columns=df.select_dtypes('number').columns)\n",
    "\n",
    "\n",
    "\n",
    "\n",
    "\n",
    "df_numeric.info(verbose=True,show_counts=True)"
   ]
  },
  {
   "cell_type": "markdown",
   "metadata": {},
   "source": [
    "Imputed sweetviz plots"
   ]
  },
  {
   "cell_type": "code",
   "execution_count": null,
   "metadata": {},
   "outputs": [],
   "source": [
    "report_analyze = sv.analyze(df)\n",
    "report_analyze.show_html('analyze1.html', open_browser = False)"
   ]
  },
  {
   "cell_type": "markdown",
   "metadata": {},
   "source": [
    "Sweetviz target variable plots"
   ]
  },
  {
   "cell_type": "code",
   "execution_count": null,
   "metadata": {},
   "outputs": [],
   "source": [
    "report = sv.analyze([df, 'Original'], target_feat='tobaccoFree')\n",
    "\n",
    "report.show_html('analyze2.html', open_browser = False)"
   ]
  },
  {
   "cell_type": "markdown",
   "metadata": {},
   "source": [
    "Imputed data heatmap with absolute value correlation "
   ]
  },
  {
   "cell_type": "code",
   "execution_count": null,
   "metadata": {},
   "outputs": [],
   "source": [
    "plt.figure(figsize=(80,60))\n",
    "sns.heatmap(abs(df.corr(numeric_only=True)), annot=True, annot_kws={\"size\": 6}, cmap=\"YlGnBu\")\n",
    "save_fig('Heat Map_imputed')"
   ]
  },
  {
   "cell_type": "markdown",
   "metadata": {},
   "source": [
    "Frequency histogram for imputed data"
   ]
  },
  {
   "cell_type": "code",
   "execution_count": null,
   "metadata": {},
   "outputs": [],
   "source": [
    "df.hist(figsize = (30,20))\n",
    "save_fig(\"tfs_bar_plot\")  \n",
    "plt.show()"
   ]
  },
  {
   "cell_type": "markdown",
   "metadata": {},
   "source": [
    "Writing imputed dataset to file"
   ]
  },
  {
   "cell_type": "code",
   "execution_count": null,
   "metadata": {},
   "outputs": [],
   "source": [
    "df_numeric = df_numeric.to_csv('/main/tobaccoFree/data/imputed_data.csv', index=False, sep=',', encoding='utf-8')"
   ]
  }
 ],
 "metadata": {
  "kernelspec": {
   "display_name": "Python 3",
   "language": "python",
   "name": "python3"
  },
  "language_info": {
   "codemirror_mode": {
    "name": "ipython",
    "version": 3
   },
   "file_extension": ".py",
   "mimetype": "text/x-python",
   "name": "python",
   "nbconvert_exporter": "python",
   "pygments_lexer": "ipython3",
   "version": "3.10.12"
  }
 },
 "nbformat": 4,
 "nbformat_minor": 2
}
