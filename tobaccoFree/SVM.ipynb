{
 "cells": [
  {
   "cell_type": "markdown",
   "metadata": {},
   "source": [
    "# From Data to Action: Machine Learning Approaches for Predicting Tobacco-Free Policy Implementation in Schools \n",
    "## SVM Radial "
   ]
  },
  {
   "cell_type": "markdown",
   "metadata": {},
   "source": [
    "Loading imputed dataset"
   ]
  },
  {
   "cell_type": "code",
   "execution_count": 1,
   "metadata": {},
   "outputs": [
    {
     "data": {
      "text/html": [
       "<div>\n",
       "<style scoped>\n",
       "    .dataframe tbody tr th:only-of-type {\n",
       "        vertical-align: middle;\n",
       "    }\n",
       "\n",
       "    .dataframe tbody tr th {\n",
       "        vertical-align: top;\n",
       "    }\n",
       "\n",
       "    .dataframe thead th {\n",
       "        text-align: right;\n",
       "    }\n",
       "</style>\n",
       "<table border=\"1\" class=\"dataframe\">\n",
       "  <thead>\n",
       "    <tr style=\"text-align: right;\">\n",
       "      <th></th>\n",
       "      <th>Dist_Akola</th>\n",
       "      <th>Dist_Amravati</th>\n",
       "      <th>Dist_Chandrapur</th>\n",
       "      <th>Dist_Dhule</th>\n",
       "      <th>Dist_Gondia</th>\n",
       "      <th>Dist_Hingoli</th>\n",
       "      <th>Dist_Jalgaon</th>\n",
       "      <th>Dist_Kolhapur</th>\n",
       "      <th>Dist_Latur</th>\n",
       "      <th>Dist_Nagpur</th>\n",
       "      <th>...</th>\n",
       "      <th>parentEduLevl_50:50%</th>\n",
       "      <th>parentEduLevl_Higher Secondary</th>\n",
       "      <th>parentEduLevl_Higher secondary</th>\n",
       "      <th>parentEduLevl_Literate</th>\n",
       "      <th>parentEduLevl_Primary, secondary</th>\n",
       "      <th>parentEduLevl_illiterate</th>\n",
       "      <th>parentEduLevl_primary</th>\n",
       "      <th>parentEduLevl_secondary</th>\n",
       "      <th>numBlank</th>\n",
       "      <th>tobaccoFree</th>\n",
       "    </tr>\n",
       "  </thead>\n",
       "  <tbody>\n",
       "    <tr>\n",
       "      <th>0</th>\n",
       "      <td>0.0</td>\n",
       "      <td>0.0</td>\n",
       "      <td>0.0</td>\n",
       "      <td>0.0</td>\n",
       "      <td>0.0</td>\n",
       "      <td>0.0</td>\n",
       "      <td>0.0</td>\n",
       "      <td>0.0</td>\n",
       "      <td>0.0</td>\n",
       "      <td>0.0</td>\n",
       "      <td>...</td>\n",
       "      <td>0.0</td>\n",
       "      <td>0.0</td>\n",
       "      <td>0.0</td>\n",
       "      <td>0.0</td>\n",
       "      <td>0.0</td>\n",
       "      <td>0.0</td>\n",
       "      <td>0.0</td>\n",
       "      <td>1.0</td>\n",
       "      <td>16.0</td>\n",
       "      <td>1.0</td>\n",
       "    </tr>\n",
       "    <tr>\n",
       "      <th>1</th>\n",
       "      <td>0.0</td>\n",
       "      <td>0.0</td>\n",
       "      <td>0.0</td>\n",
       "      <td>0.0</td>\n",
       "      <td>0.0</td>\n",
       "      <td>0.0</td>\n",
       "      <td>0.0</td>\n",
       "      <td>0.0</td>\n",
       "      <td>0.0</td>\n",
       "      <td>0.0</td>\n",
       "      <td>...</td>\n",
       "      <td>0.0</td>\n",
       "      <td>0.0</td>\n",
       "      <td>0.0</td>\n",
       "      <td>0.0</td>\n",
       "      <td>0.0</td>\n",
       "      <td>0.0</td>\n",
       "      <td>0.0</td>\n",
       "      <td>1.0</td>\n",
       "      <td>16.0</td>\n",
       "      <td>1.0</td>\n",
       "    </tr>\n",
       "    <tr>\n",
       "      <th>2</th>\n",
       "      <td>0.0</td>\n",
       "      <td>0.0</td>\n",
       "      <td>0.0</td>\n",
       "      <td>0.0</td>\n",
       "      <td>0.0</td>\n",
       "      <td>0.0</td>\n",
       "      <td>0.0</td>\n",
       "      <td>1.0</td>\n",
       "      <td>0.0</td>\n",
       "      <td>0.0</td>\n",
       "      <td>...</td>\n",
       "      <td>0.0</td>\n",
       "      <td>0.0</td>\n",
       "      <td>0.0</td>\n",
       "      <td>0.0</td>\n",
       "      <td>0.0</td>\n",
       "      <td>0.0</td>\n",
       "      <td>0.0</td>\n",
       "      <td>1.0</td>\n",
       "      <td>16.0</td>\n",
       "      <td>1.0</td>\n",
       "    </tr>\n",
       "    <tr>\n",
       "      <th>3</th>\n",
       "      <td>0.0</td>\n",
       "      <td>0.0</td>\n",
       "      <td>0.0</td>\n",
       "      <td>0.0</td>\n",
       "      <td>0.0</td>\n",
       "      <td>0.0</td>\n",
       "      <td>1.0</td>\n",
       "      <td>0.0</td>\n",
       "      <td>0.0</td>\n",
       "      <td>0.0</td>\n",
       "      <td>...</td>\n",
       "      <td>0.0</td>\n",
       "      <td>0.0</td>\n",
       "      <td>0.0</td>\n",
       "      <td>0.0</td>\n",
       "      <td>0.0</td>\n",
       "      <td>0.0</td>\n",
       "      <td>0.0</td>\n",
       "      <td>1.0</td>\n",
       "      <td>16.0</td>\n",
       "      <td>1.0</td>\n",
       "    </tr>\n",
       "    <tr>\n",
       "      <th>4</th>\n",
       "      <td>0.0</td>\n",
       "      <td>0.0</td>\n",
       "      <td>0.0</td>\n",
       "      <td>0.0</td>\n",
       "      <td>0.0</td>\n",
       "      <td>0.0</td>\n",
       "      <td>0.0</td>\n",
       "      <td>0.0</td>\n",
       "      <td>0.0</td>\n",
       "      <td>0.0</td>\n",
       "      <td>...</td>\n",
       "      <td>0.0</td>\n",
       "      <td>0.0</td>\n",
       "      <td>0.0</td>\n",
       "      <td>0.0</td>\n",
       "      <td>0.0</td>\n",
       "      <td>0.0</td>\n",
       "      <td>0.0</td>\n",
       "      <td>1.0</td>\n",
       "      <td>16.0</td>\n",
       "      <td>1.0</td>\n",
       "    </tr>\n",
       "  </tbody>\n",
       "</table>\n",
       "<p>5 rows × 247 columns</p>\n",
       "</div>"
      ],
      "text/plain": [
       "   Dist_Akola  Dist_Amravati  Dist_Chandrapur  Dist_Dhule  Dist_Gondia  \\\n",
       "0         0.0            0.0              0.0         0.0          0.0   \n",
       "1         0.0            0.0              0.0         0.0          0.0   \n",
       "2         0.0            0.0              0.0         0.0          0.0   \n",
       "3         0.0            0.0              0.0         0.0          0.0   \n",
       "4         0.0            0.0              0.0         0.0          0.0   \n",
       "\n",
       "   Dist_Hingoli  Dist_Jalgaon  Dist_Kolhapur  Dist_Latur  Dist_Nagpur  ...  \\\n",
       "0           0.0           0.0            0.0         0.0          0.0  ...   \n",
       "1           0.0           0.0            0.0         0.0          0.0  ...   \n",
       "2           0.0           0.0            1.0         0.0          0.0  ...   \n",
       "3           0.0           1.0            0.0         0.0          0.0  ...   \n",
       "4           0.0           0.0            0.0         0.0          0.0  ...   \n",
       "\n",
       "   parentEduLevl_50:50%  parentEduLevl_Higher Secondary  \\\n",
       "0                   0.0                             0.0   \n",
       "1                   0.0                             0.0   \n",
       "2                   0.0                             0.0   \n",
       "3                   0.0                             0.0   \n",
       "4                   0.0                             0.0   \n",
       "\n",
       "   parentEduLevl_Higher secondary  parentEduLevl_Literate  \\\n",
       "0                             0.0                     0.0   \n",
       "1                             0.0                     0.0   \n",
       "2                             0.0                     0.0   \n",
       "3                             0.0                     0.0   \n",
       "4                             0.0                     0.0   \n",
       "\n",
       "   parentEduLevl_Primary, secondary  parentEduLevl_illiterate  \\\n",
       "0                               0.0                       0.0   \n",
       "1                               0.0                       0.0   \n",
       "2                               0.0                       0.0   \n",
       "3                               0.0                       0.0   \n",
       "4                               0.0                       0.0   \n",
       "\n",
       "   parentEduLevl_primary  parentEduLevl_secondary  numBlank   tobaccoFree  \n",
       "0                    0.0                      1.0       16.0          1.0  \n",
       "1                    0.0                      1.0       16.0          1.0  \n",
       "2                    0.0                      1.0       16.0          1.0  \n",
       "3                    0.0                      1.0       16.0          1.0  \n",
       "4                    0.0                      1.0       16.0          1.0  \n",
       "\n",
       "[5 rows x 247 columns]"
      ]
     },
     "execution_count": 1,
     "metadata": {},
     "output_type": "execute_result"
    }
   ],
   "source": [
    "import pandas as pd\n",
    "import numpy as np\n",
    "from pathlib import Path\n",
    "import matplotlib.pyplot as plt\n",
    "import seaborn as sns\n",
    "\n",
    "import statsmodels.api as sm\n",
    "import scipy.stats as st\n",
    "\n",
    "IMAGES_PATH = Path() / \"plots\"\n",
    "IMAGES_PATH.mkdir(parents=True, exist_ok=True)\n",
    "\n",
    "def save_fig(fig_id, tight_layout=True, fig_extension=\"png\", resolution=300):\n",
    "    path = IMAGES_PATH / f\"{fig_id}.{fig_extension}\"\n",
    "    if tight_layout:\n",
    "        plt.tight_layout()\n",
    "    plt.savefig(path, format=fig_extension, dpi=resolution)\n",
    "# Read the two dataframes\n",
    "df = pd.read_csv('/main/tobaccoFree/data/imputed_data.csv')\n",
    "\n",
    "\n",
    "df.head()"
   ]
  },
  {
   "cell_type": "markdown",
   "metadata": {},
   "source": [
    "## Preparing for the model"
   ]
  },
  {
   "cell_type": "markdown",
   "metadata": {},
   "source": [
    "Getting x and y variables"
   ]
  },
  {
   "cell_type": "code",
   "execution_count": 2,
   "metadata": {},
   "outputs": [],
   "source": [
    "from sklearn.model_selection import train_test_split, cross_val_score\n",
    "np.random.seed(42)\n",
    "X = df.drop(['tobaccoFree'], axis=1)\n",
    "y = df['tobaccoFree']\n",
    "\n"
   ]
  },
  {
   "cell_type": "markdown",
   "metadata": {},
   "source": [
    "Original frequency histogram"
   ]
  },
  {
   "cell_type": "code",
   "execution_count": null,
   "metadata": {},
   "outputs": [],
   "source": [
    "X.hist(figsize = (30,20))\n",
    "save_fig(\"unscaled_bar_plot\")  \n",
    "plt.show()"
   ]
  },
  {
   "cell_type": "markdown",
   "metadata": {},
   "source": [
    "Scaling features data"
   ]
  },
  {
   "cell_type": "code",
   "execution_count": 3,
   "metadata": {},
   "outputs": [],
   "source": [
    "from sklearn.preprocessing import StandardScaler\n",
    "scaler = StandardScaler()\n",
    "\n",
    "X = pd.DataFrame(scaler.fit_transform(X))"
   ]
  },
  {
   "cell_type": "markdown",
   "metadata": {},
   "source": [
    "*scaliling with standardization allows for faster convergence by setting mean to 0 and std dev to 1*"
   ]
  },
  {
   "cell_type": "markdown",
   "metadata": {},
   "source": [
    "train test split"
   ]
  },
  {
   "cell_type": "code",
   "execution_count": 4,
   "metadata": {},
   "outputs": [],
   "source": [
    "\n",
    "X_train, X_test, y_train, y_test = train_test_split(X, y, test_size=0.2)\n",
    "# X_train\n"
   ]
  },
  {
   "cell_type": "markdown",
   "metadata": {},
   "source": [
    "Perform PCA and Factor Analysis and get feature correlation to Dimensions"
   ]
  },
  {
   "cell_type": "code",
   "execution_count": 5,
   "metadata": {},
   "outputs": [],
   "source": [
    "from sklearn.svm import SVC\n",
    "from sklearn.decomposition import PCA\n",
    "from mlxtend.plotting import plot_decision_regions\n",
    "from sklearn.metrics import accuracy_score\n",
    "from sklearn.decomposition import FactorAnalysis\n",
    "\n",
    "#Perform PCA\n",
    "pca = PCA(n_components=2)\n",
    "X_train2D = pca.fit_transform(X_train)\n",
    "X_test2D = pca.fit_transform(X_test)\n",
    "\n",
    "pca4 = PCA(n_components=8)\n",
    "X_train4D = pca4.fit_transform(X_train)\n",
    "X_test4D = pca4.fit_transform(X_test)\n",
    "\n",
    "pca8 = PCA(n_components=8)\n",
    "X_train8D = pca8.fit_transform(X_train)\n",
    "X_test8D = pca8.fit_transform(X_test)\n",
    "\n",
    "# Perform Factor Analysis\n",
    "famd = FactorAnalysis(n_components=123, max_iter=1000)\n",
    "X_train_fa = famd.fit_transform(X_train)\n",
    "X_test_fa = famd.fit_transform(X_test)\n",
    "\n",
    "# Get the feature names from the dataframe\n",
    "feature_names = df.drop(['tobaccoFree'], axis=1).columns\n",
    "n_factors = X_train_fa.shape[1]\n",
    "# Calculate the correlation coefficients with PCA components\n",
    "pca_corr = pd.DataFrame(abs(pca.components_.T), columns=[f'PC{i+1}' for i in range(pca.n_components_)], index=feature_names)\n",
    "\n",
    "# Calculate the correlation coefficients with Factor Analysis components\n",
    "fa_corr = pd.DataFrame(abs(famd.components_.T), columns=[f'FA{i+1}' for i in range(famd.n_components)], index=feature_names)"
   ]
  },
  {
   "cell_type": "markdown",
   "metadata": {},
   "source": [
    "Plot the correlation coefficients for PCA (top 11 variables)"
   ]
  },
  {
   "cell_type": "code",
   "execution_count": null,
   "metadata": {},
   "outputs": [],
   "source": [
    "\n",
    "fig, ax = plt.subplots(figsize=(10, 6))\n",
    "for i in range(pca.n_components_):\n",
    "    top_vars = pca_corr[f'PC{i+1}'].sort_values(ascending=False)[:11]\n",
    "    top_vars.plot(kind='bar', ax=ax)\n",
    "    ax.set_title(f'Correlations between Variables and PCA Component 1-{i+1} (Top 11)')\n",
    "    ax.set_xlabel('Variables')\n",
    "    ax.set_ylabel('Correlation Coefficient')\n",
    "plt.xticks(rotation=90)\n",
    "plt.tight_layout()\n",
    "save_fig('p')\n",
    "plt.show()"
   ]
  },
  {
   "cell_type": "markdown",
   "metadata": {},
   "source": [
    "Plot the correlation coefficients for Factor Analysis (top 11 variables)"
   ]
  },
  {
   "cell_type": "code",
   "execution_count": null,
   "metadata": {},
   "outputs": [],
   "source": [
    "fig, ax = plt.subplots(figsize=(10, 6))\n",
    "for i in range(n_factors):\n",
    "    top_vars = fa_corr[f'FA{i+1}'].sort_values(ascending=False)[:11]\n",
    "    top_vars.plot(kind='bar', ax=ax)\n",
    "    ax.set_title(f'Correlations between Variables and Factor Analysis Component 1-{i+1} (Top 11)')\n",
    "    ax.set_xlabel('Variables')\n",
    "    ax.set_ylabel('Correlation Coefficient')\n",
    "plt.xticks(rotation=90)\n",
    "plt.tight_layout()\n",
    "save_fig('s')\n",
    "plt.show()"
   ]
  },
  {
   "cell_type": "markdown",
   "metadata": {},
   "source": [
    "Running SVM Models and checking accuracy"
   ]
  },
  {
   "cell_type": "code",
   "execution_count": 6,
   "metadata": {},
   "outputs": [
    {
     "name": "stdout",
     "output_type": "stream",
     "text": [
      "Accuracy with Not-Linear SVM: 94.31%\n",
      "Accuracy with Not-Linear SVM + PCA considering only 2 PCs: 91.87%\n",
      "Accuracy with Not-Linear SVM + PCA considering only 4 PCs: 91.06%\n",
      "Accuracy with Not-Linear SVM + PCA considering only 8 PCs: 91.06%\n",
      "Accuracy with Not-Linear SVM + FAMD considering n Factors: 91.87%\n",
      "Accuracy with SVM and K-FOLD CROSS VALIDATION: 0.98 (+/- 0.04)\n",
      "Accuracy with SVM and K-FOLD CROSS VALIDATION: 0.92 (+/- 0.05)\n",
      "Accuracy with SVM and K-FOLD CROSS VALIDATION: 0.94 (+/- 0.03)\n"
     ]
    }
   ],
   "source": [
    "from sklearn.svm import SVC\n",
    "from sklearn.decomposition import PCA\n",
    "from mlxtend.plotting import plot_decision_regions\n",
    "from sklearn.metrics import accuracy_score\n",
    "from sklearn.decomposition import FactorAnalysis\n",
    "\n",
    "svm_with_kernel = SVC(gamma='auto', kernel='rbf', probability=True)\n",
    "svm_with_kernel.fit(X_train, y_train) \n",
    "y_pred = svm_with_kernel.predict(X_test)\n",
    "precision = accuracy_score(y_pred, y_test) * 100\n",
    "print(\"Accuracy with Not-Linear SVM: {0:.2f}%\".format(precision))\n",
    "\n",
    "svm_with_kernel = SVC(gamma='auto', kernel='rbf', probability=True)\n",
    "svm_with_kernel.fit(X_train2D, y_train) \n",
    "y_pred = svm_with_kernel.predict(X_test2D)\n",
    "precision = accuracy_score(y_pred, y_test) * 100\n",
    "print(\"Accuracy with Not-Linear SVM + PCA considering only 2 PCs: {0:.2f}%\".format(precision))\n",
    "\n",
    "svm_with_kernel = SVC(gamma='auto', kernel='rbf', probability=True)\n",
    "svm_with_kernel.fit(X_train4D, y_train) \n",
    "y_pred = svm_with_kernel.predict(X_test4D)\n",
    "precision = accuracy_score(y_pred, y_test) * 100\n",
    "print(\"Accuracy with Not-Linear SVM + PCA considering only 4 PCs: {0:.2f}%\".format(precision))\n",
    "\n",
    "svm_with_kernel = SVC(gamma='auto', kernel='rbf', probability=True)\n",
    "svm_with_kernel.fit(X_train8D, y_train) \n",
    "y_pred = svm_with_kernel.predict(X_test8D)\n",
    "precision = accuracy_score(y_pred, y_test) * 100\n",
    "print(\"Accuracy with Not-Linear SVM + PCA considering only 8 PCs: {0:.2f}%\".format(precision))\n",
    "\n",
    "svm_with_kernel = SVC(gamma='auto', kernel='rbf', probability=True)\n",
    "svm_with_kernel.fit(X_train_fa, y_train) \n",
    "y_pred = svm_with_kernel.predict(X_test_fa)\n",
    "precision = accuracy_score(y_pred, y_test) * 100\n",
    "print(\"Accuracy with Not-Linear SVM + FAMD considering n Factors: {0:.2f}%\".format(precision))\n",
    "\n",
    "pred_kfold = cross_val_score(svm_with_kernel, X_train, y_train, cv=10) \n",
    "print(\"Accuracy with SVM and K-FOLD CROSS VALIDATION: %0.2f (+/- %0.2f)\" % (pred_kfold.mean(), pred_kfold.std() * 2))\n",
    "\n",
    "pred_kfold = cross_val_score(svm_with_kernel, X_train2D, y_train, cv=10) \n",
    "print(\"Accuracy with SVM and K-FOLD CROSS VALIDATION: %0.2f (+/- %0.2f)\" % (pred_kfold.mean(), pred_kfold.std() * 2))\n",
    "\n",
    "pred_kfold = cross_val_score(svm_with_kernel, X_train_fa, y_train, cv=10) \n",
    "print(\"Accuracy with SVM and K-FOLD CROSS VALIDATION: %0.2f (+/- %0.2f)\" % (pred_kfold.mean(), pred_kfold.std() * 2))\n"
   ]
  },
  {
   "cell_type": "markdown",
   "metadata": {},
   "source": [
    "Plotting decision boundaries"
   ]
  },
  {
   "cell_type": "code",
   "execution_count": null,
   "metadata": {},
   "outputs": [],
   "source": [
    "\n",
    "plot_decision_regions(X_train, y_train.values.astype(np.int_), clf=svm_with_kernel, legend=1)\n",
    "plt.xlabel('PC1')\n",
    "plt.ylabel('PC2')\n",
    "plt.title('Kernel SVM Decision Boundaries')\n",
    "save_fig('svm')\n",
    "plt.show()"
   ]
  },
  {
   "cell_type": "markdown",
   "metadata": {},
   "source": [
    "Plot Explained Variance Scree Plot"
   ]
  },
  {
   "cell_type": "code",
   "execution_count": 24,
   "metadata": {},
   "outputs": [
    {
     "data": {
      "image/png": "[encoded data removed]",
      "text/plain": [
       "<Figure size 4000x3000 with 1 Axes>"
      ]
     },
     "metadata": {},
     "output_type": "display_data"
    }
   ],
   "source": [
    "import random\n",
    "per_var = np.round(pca.explained_variance_ratio_* 100, decimals=1)\n",
    "labels = ['PC' + str(x) for x in range(1, len(per_var)+1)]\n",
    "\n",
    "fig, ax = plt.subplots(figsize=(40, 30))\n",
    "for i, bar in enumerate(ax.bar(x=range(1, len(per_var) + 1), height=per_var, width=1, tick_label=labels)):\n",
    "    # Generate a random RGB color tuple\n",
    "    color = (random.random(), random.random(), random.random())\n",
    "    bar.set_color(color)\n",
    "plt.ylabel('Percentage of Explained Variance')\n",
    "plt.xlabel('Principal Component')\n",
    "plt.title('Scree Plot')\n",
    "save_fig(\"scree_plot2\")  \n",
    "plt.show()"
   ]
  }
 ],
 "metadata": {
  "kernelspec": {
   "display_name": "Python 3",
   "language": "python",
   "name": "python3"
  },
  "language_info": {
   "codemirror_mode": {
    "name": "ipython",
    "version": 3
   },
   "file_extension": ".py",
   "mimetype": "text/x-python",
   "name": "python",
   "nbconvert_exporter": "python",
   "pygments_lexer": "ipython3",
   "version": "3.10.12"
  }
 },
 "nbformat": 4,
 "nbformat_minor": 2
}
